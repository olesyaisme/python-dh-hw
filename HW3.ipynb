{
 "cells": [
  {
   "cell_type": "code",
   "execution_count": 4,
   "metadata": {
    "scrolled": true
   },
   "outputs": [],
   "source": [
    "f = open('literary_anecdotes.txt', 'r')\n",
    "text = f.read()\n",
    "\n",
    "import re\n",
    "text = re.sub(\"(-\\n)\", '', text)\n",
    "text = re.sub('[^\\w\\s]', '', text)\n",
    "text = re.sub('\\s+', ' ', text)\n",
    "\n",
    "from pymystem3 import Mystem\n",
    "m = Mystem()\n",
    "lemmas = m.lemmatize(text)"
   ]
  },
  {
   "cell_type": "code",
   "execution_count": 3,
   "metadata": {},
   "outputs": [],
   "source": [
    "import json\n",
    "with open ('lemmas', 'w', encoding = 'utf-8') as f:\n",
    "    json.dump(lemmas, f, ensure_ascii=False)"
   ]
  },
  {
   "cell_type": "code",
   "execution_count": 5,
   "metadata": {},
   "outputs": [],
   "source": [
    "f2 = open('rus_stopwords.txt', 'r')\n",
    "stopwords = f2.read().split()\n",
    "stopwords.append(' ')\n",
    "  \n",
    "filtered = []\n",
    "for word in lemmas:\n",
    "    if word not in stopwords:\n",
    "        filtered.append(word)\n",
    "        \n",
    "from collections import Counter\n",
    "counts = Counter(filtered)"
   ]
  },
  {
   "cell_type": "code",
   "execution_count": 8,
   "metadata": {},
   "outputs": [
    {
     "name": "stdout",
     "output_type": "stream",
     "text": [
      "квартира\n",
      "прийти\n",
      "прыг\n",
      "свешиваться\n",
      "туда\n",
      "иной\n",
      "заночевать\n",
      "специальный\n",
      "признавалка\n",
      "говориттакий\n",
      "роскошь\n",
      "спихивать\n",
      "вертеться\n",
      "арина\n",
      "родионовна\n",
      "уводить\n",
      "изза\n",
      "колонна\n",
      "устыжаться\n",
      "желание\n"
     ]
    }
   ],
   "source": [
    "x = {}\n",
    "for lemma, count in counts.items():\n",
    "    x[lemma] = (count/len(filtered)*1000000)\n",
    "    \n",
    "sorted_by_value = sorted(x.items(), key=lambda kv: kv[1])\n",
    "\n",
    "for k, v in sorted_by_value[:20]:\n",
    "    print(k)  "
   ]
  },
  {
   "cell_type": "code",
   "execution_count": 9,
   "metadata": {},
   "outputs": [],
   "source": [
    "k = m.analyze(text) \n",
    "import re\n",
    "pos = re.compile('[A-Za-z]+')\n",
    "\n",
    "words = {}\n",
    "for word in k:\n",
    "    try:\n",
    "        form = word['text']\n",
    "        gr = word['analysis'][0]['gr']\n",
    "        words[form] = gr\n",
    "    except (KeyError, IndexError) as e:\n",
    "        pass"
   ]
  },
  {
   "cell_type": "code",
   "execution_count": 10,
   "metadata": {},
   "outputs": [],
   "source": [
    "words_pos = {}\n",
    "\n",
    "for k, v in words.items():\n",
    "    words_pos[k] = pos.match(v).group(0)\n",
    "    "
   ]
  },
  {
   "cell_type": "code",
   "execution_count": 12,
   "metadata": {},
   "outputs": [
    {
     "name": "stdout",
     "output_type": "stream",
     "text": [
      "Counter({'S': 442, 'V': 432, 'A': 99, 'ADV': 94, 'SPRO': 53, 'APRO': 49, 'PR': 35, 'PART': 26, 'CONJ': 21, 'ADVPRO': 20, 'NUM': 9, 'INTJ': 7, 'ANUM': 2})\n",
      "PR 0.027152831652443754\n",
      "S 0.34290147401086113\n",
      "V 0.3351435221101629\n",
      "A 0.07680372381691233\n",
      "ADV 0.07292474786656322\n",
      "SPRO 0.041117145073700546\n",
      "CONJ 0.016291698991466253\n",
      "PART 0.02017067494181536\n",
      "ADVPRO 0.015515903801396431\n",
      "APRO 0.03801396431342126\n",
      "ANUM 0.0015515903801396431\n",
      "INTJ 0.005430566330488751\n",
      "NUM 0.0069821567106283944\n"
     ]
    }
   ],
   "source": [
    "pos_list = []\n",
    "\n",
    "for k, v in words_pos.items():\n",
    "    pos_list.append(v)\n",
    "    \n",
    "ab = Counter(pos_list)\n",
    "print(ab)\n",
    " \n",
    "s = sum(ab.values())\n",
    "    \n",
    "for k, v in ab.items():\n",
    "    d = (v/s)\n",
    "    print(k, d)"
   ]
  }
 ],
 "metadata": {
  "kernelspec": {
   "display_name": "Python 3",
   "language": "python",
   "name": "python3"
  },
  "language_info": {
   "codemirror_mode": {
    "name": "ipython",
    "version": 3
   },
   "file_extension": ".py",
   "mimetype": "text/x-python",
   "name": "python",
   "nbconvert_exporter": "python",
   "pygments_lexer": "ipython3",
   "version": "3.6.4"
  }
 },
 "nbformat": 4,
 "nbformat_minor": 2
}
